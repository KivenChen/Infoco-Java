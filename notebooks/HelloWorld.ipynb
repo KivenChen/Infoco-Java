{
 "cells": [
  {
   "cell_type": "markdown",
   "metadata": {},
   "source": [
    "# Java 的第一印象\n",
    "\n",
    "---\n"
   ]
  },
  {
   "cell_type": "markdown",
   "metadata": {},
   "source": [
    "## *（Shift + Enter 运行被选中的格子并跳到下一格）*\n",
    "---\n",
    "\n",
    "## 为什么用 Jupiter Notebook\n",
    "\n",
    "<br>\n",
    "\n",
    "\n",
    "在这个地方，Java 程序可以像 Python 一样，不必遵循一个必要的框架，每写一行就可以执行一行。\n",
    "\n",
    "下面是 Jupiter Notebook 中的一个例子：\n"
   ]
  },
  {
   "cell_type": "code",
   "execution_count": 3,
   "metadata": {},
   "outputs": [
    {
     "name": "stdout",
     "output_type": "stream",
     "text": [
      "Hello World\n"
     ]
    }
   ],
   "source": [
    "// 同样的，Shift + Enter 执行并跳到下一个格子\n",
    "System.out.println(\"Hello World\");  "
   ]
  },
  {
   "cell_type": "markdown",
   "metadata": {},
   "source": [
    "但正式的 Java 是很严谨的，每一个程序都需要把代码仔细的封装起来。就像这样"
   ]
  },
  {
   "cell_type": "code",
   "execution_count": null,
   "metadata": {},
   "outputs": [],
   "source": [
    "public class HelloWorld{\n",
    "    public static void main(String[] args){\n",
    "        System.out.println(\"Hello World\");\n",
    "    }\n",
    "}"
   ]
  }
 ],
 "metadata": {
  "kernelspec": {
   "display_name": "Java",
   "language": "java",
   "name": "java"
  },
  "language_info": {
   "codemirror_mode": "java",
   "file_extension": ".java",
   "mimetype": "text/x-java-source",
   "name": "Java",
   "pygments_lexer": "java",
   "version": "10.0.1+10-Debian-4"
  }
 },
 "nbformat": 4,
 "nbformat_minor": 2
}
